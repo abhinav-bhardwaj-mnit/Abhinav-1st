{
  "nbformat": 4,
  "nbformat_minor": 0,
  "metadata": {
    "colab": {
      "provenance": [],
      "authorship_tag": "ABX9TyNm4A/NhwRq4f6Yfp3rhJQ4",
      "include_colab_link": true
    },
    "kernelspec": {
      "name": "python3",
      "display_name": "Python 3"
    },
    "language_info": {
      "name": "python"
    }
  },
  "cells": [
    {
      "cell_type": "markdown",
      "metadata": {
        "id": "view-in-github",
        "colab_type": "text"
      },
      "source": [
        "<a href=\"https://colab.research.google.com/github/abhinav-bhardwaj-mnit/Abhinav-1st/blob/main/multiple_regression.ipynb\" target=\"_parent\"><img src=\"https://colab.research.google.com/assets/colab-badge.svg\" alt=\"Open In Colab\"/></a>"
      ]
    },
    {
      "cell_type": "code",
      "execution_count": 2,
      "metadata": {
        "id": "Fia2I2MRcpMs"
      },
      "outputs": [],
      "source": [
        "import copy,math\n",
        "import numpy as np\n",
        "import matplotlib.pyplot as plt\n",
        "np.set_printoptions(precision=2)  # reduced display precision on numpy arrays"
      ]
    },
    {
      "cell_type": "code",
      "source": [
        "X_train = np.array([[2104, 5, 1, 45], [1416, 3, 2, 40], [852, 2, 1, 35]])\n",
        "y_train = np.array([460, 232, 178])\n",
        "print(X_train)\n",
        "print(y_train)\n",
        "b_init = 5\n",
        "w_init = np.array([.39,.2,1,5.4])\n",
        "print(f\"w_init shape: {w_init.shape}\")\n",
        "np.shape(y_train)"
      ],
      "metadata": {
        "colab": {
          "base_uri": "https://localhost:8080/"
        },
        "id": "qXFBQRIfdEXV",
        "outputId": "e9142bb9-226b-4483-a296-d3d7978514ad"
      },
      "execution_count": 21,
      "outputs": [
        {
          "output_type": "stream",
          "name": "stdout",
          "text": [
            "[[2104    5    1   45]\n",
            " [1416    3    2   40]\n",
            " [ 852    2    1   35]]\n",
            "[460 232 178]\n",
            "w_init shape: (4,)\n"
          ]
        },
        {
          "output_type": "execute_result",
          "data": {
            "text/plain": [
              "(3,)"
            ]
          },
          "metadata": {},
          "execution_count": 21
        }
      ]
    },
    {
      "cell_type": "code",
      "source": [
        "def oneloop(w,x,b):\n",
        "  (cost) = 0\n",
        "  for i in range(len(y_train)):\n",
        "    y_pred = np.dot(w,x[i])+b\n",
        "    cost = cost + (y_pred-y_train[i])**2\n",
        "    print(i)\n",
        "    print(y_pred)\n",
        "  cost_fn = cost/(2*len(y_train))\n",
        "  print(f\"cost_fn:{cost_fn}\")\n",
        "  return cost_fn\n",
        "oneloop(w_init,X_train,b_init)"
      ],
      "metadata": {
        "colab": {
          "base_uri": "https://localhost:8080/"
        },
        "id": "a_5lnvVifims",
        "outputId": "b8affcc5-fc8d-4714-c2cc-20303a072233"
      },
      "execution_count": 34,
      "outputs": [
        {
          "output_type": "stream",
          "name": "stdout",
          "text": [
            "0\n",
            "1070.5600000000002\n",
            "1\n",
            "775.84\n",
            "2\n",
            "527.6800000000001\n",
            "131803.59360000005\n",
            "cost_fn:131803.59360000005\n"
          ]
        },
        {
          "output_type": "execute_result",
          "data": {
            "text/plain": [
              "np.float64(131803.59360000005)"
            ]
          },
          "metadata": {},
          "execution_count": 34
        }
      ]
    },
    {
      "cell_type": "code",
      "source": [
        "a = .1\n",
        "def gradient_function(w,x,b,a):\n",
        "  m,n = x.shape\n",
        "  dj_dw = np.zeros((n,))\n",
        "  dj_db = 0\n",
        "  for i in range(m):\n",
        "    err = (np.dot(x[i], w) + b) - y[i]\n",
        "    for j in range(n):\n",
        "      dj_dw[j] = dj_dw[j] +err * x[i,j]\n",
        "    dj_db = dj_db + err\n",
        "  dj_dw = dj_dw/m\n",
        "  dj_db = dj_db/m\n",
        "  w = w - a*dj_dw\n",
        "  b = b - a*dj_db\n",
        "  return w,b\n",
        "  print(f'The final value of w,b is {w,b}')"
      ],
      "metadata": {
        "id": "LLu602MqjnMB"
      },
      "execution_count": 62,
      "outputs": []
    },
    {
      "cell_type": "code",
      "source": [
        "def grad_descent(x,y,w_in,b_in,cost_function,gradient_function,oneloop,alpha,num_iters):\n",
        "  J_history = []\n",
        "  w = copy.deepcopy(w_in)\n",
        "  b = b_in\n",
        "  for i in range(num_iters):\n",
        "    cost = cost_function(w,x,b)\n",
        "    gradient_function(w,x,b,alpha)\n",
        "    if i<10000:\n",
        "      J_history.append(cost)\n",
        "    if i%math.ceil(num_iters/10)==0:\n",
        "      print(f\"Iteration {i:4}: Cost {float(J_history[-1]):8.2f}\")\n",
        "    J_history.append(cost)\n",
        "  return w,b,J_history"
      ],
      "metadata": {
        "id": "hu_ts-hwtZvf"
      },
      "execution_count": 72,
      "outputs": []
    },
    {
      "cell_type": "code",
      "source": [
        "initial_w = np.zeros_like(w_init)\n",
        "initial_b = 0\n",
        "\n",
        "iterations = 1000\n",
        "alpha = 5.0e-7\n",
        "\n",
        "w_final,b_final,J_hist = grad_descent(X_train,y_train,initial_w,initial_b,gradient_function,oneloop,alpha,iterations)\n",
        "print(f\"w by grad descent: {w_final}\")\n",
        "print(f\"b by grad descent: {b_final}\")\n",
        "for i in range(m):\n",
        "  print(f\"prediction: {np.dot(X_train[i], w_final) + b_final:0.2f}, target value: {y_train[i]}\")"
      ],
      "metadata": {
        "colab": {
          "base_uri": "https://localhost:8080/",
          "height": 248
        },
        "id": "ka8s0GdNvHbg",
        "outputId": "d6f9ebb2-a02d-4920-8b2c-e319ff6684b9"
      },
      "execution_count": 73,
      "outputs": [
        {
          "output_type": "error",
          "ename": "TypeError",
          "evalue": "grad_descent() missing 1 required positional argument: 'num_iters'",
          "traceback": [
            "\u001b[0;31m---------------------------------------------------------------------------\u001b[0m",
            "\u001b[0;31mTypeError\u001b[0m                                 Traceback (most recent call last)",
            "\u001b[0;32m<ipython-input-73-170873098ee8>\u001b[0m in \u001b[0;36m<cell line: 0>\u001b[0;34m()\u001b[0m\n\u001b[1;32m      5\u001b[0m \u001b[0malpha\u001b[0m \u001b[0;34m=\u001b[0m \u001b[0;36m5.0e-7\u001b[0m\u001b[0;34m\u001b[0m\u001b[0;34m\u001b[0m\u001b[0m\n\u001b[1;32m      6\u001b[0m \u001b[0;34m\u001b[0m\u001b[0m\n\u001b[0;32m----> 7\u001b[0;31m \u001b[0mw_final\u001b[0m\u001b[0;34m,\u001b[0m\u001b[0mb_final\u001b[0m\u001b[0;34m,\u001b[0m\u001b[0mJ_hist\u001b[0m \u001b[0;34m=\u001b[0m \u001b[0mgrad_descent\u001b[0m\u001b[0;34m(\u001b[0m\u001b[0mX_train\u001b[0m\u001b[0;34m,\u001b[0m\u001b[0my_train\u001b[0m\u001b[0;34m,\u001b[0m\u001b[0minitial_w\u001b[0m\u001b[0;34m,\u001b[0m\u001b[0minitial_b\u001b[0m\u001b[0;34m,\u001b[0m\u001b[0mgradient_function\u001b[0m\u001b[0;34m,\u001b[0m\u001b[0moneloop\u001b[0m\u001b[0;34m,\u001b[0m\u001b[0malpha\u001b[0m\u001b[0;34m,\u001b[0m\u001b[0miterations\u001b[0m\u001b[0;34m)\u001b[0m\u001b[0;34m\u001b[0m\u001b[0;34m\u001b[0m\u001b[0m\n\u001b[0m\u001b[1;32m      8\u001b[0m \u001b[0mprint\u001b[0m\u001b[0;34m(\u001b[0m\u001b[0;34mf\"w by grad descent: {w_final}\"\u001b[0m\u001b[0;34m)\u001b[0m\u001b[0;34m\u001b[0m\u001b[0;34m\u001b[0m\u001b[0m\n\u001b[1;32m      9\u001b[0m \u001b[0mprint\u001b[0m\u001b[0;34m(\u001b[0m\u001b[0;34mf\"b by grad descent: {b_final}\"\u001b[0m\u001b[0;34m)\u001b[0m\u001b[0;34m\u001b[0m\u001b[0;34m\u001b[0m\u001b[0m\n",
            "\u001b[0;31mTypeError\u001b[0m: grad_descent() missing 1 required positional argument: 'num_iters'"
          ]
        }
      ]
    }
  ]
}